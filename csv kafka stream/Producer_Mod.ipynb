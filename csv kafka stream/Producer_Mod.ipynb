{
 "cells": [
  {
   "cell_type": "code",
   "execution_count": null,
   "id": "2f9744e9",
   "metadata": {},
   "outputs": [],
   "source": [
    "#!pip install kafka-python"
   ]
  },
  {
   "cell_type": "code",
   "execution_count": null,
   "id": "593af0e3",
   "metadata": {},
   "outputs": [],
   "source": [
    "import json\n",
    "import csv\n",
    "import pandas as pd\n",
    "import kafka\n",
    "from kafka import KafkaProducer\n",
    "from time import sleep"
   ]
  },
  {
   "cell_type": "code",
   "execution_count": null,
   "id": "643c1e6c",
   "metadata": {},
   "outputs": [],
   "source": [
    "def producer():\n",
    "    producer = KafkaProducer(\n",
    "    bootstrap_servers=[\"localhost:9092\"],api_version=(0, 10, 1),\n",
    "    value_serializer=lambda v: json.dumps(v).encode('utf-8'))\n",
    "    with open('MOCK_DATA.csv', mode = 'r') as csvfile:\n",
    "        csvf = csv.DictReader(csvfile) \n",
    "        list = []\n",
    "        for row in csvf:\n",
    "            list.append(row)\n",
    "    csvfile.close()\n",
    "    jsonString = json.dumps(list)\n",
    "    new_json = json.loads(jsonString)\n",
    "    empty_dict = {\n",
    "        \"data\" : {\n",
    "            \"cred\" : new_json\n",
    "        }\n",
    "    }\n",
    "    for i in range(120):\n",
    "        producer.send('jsonAmit', empty_dict)\n",
    "        sleep(5)"
   ]
  },
  {
   "cell_type": "code",
   "execution_count": null,
   "id": "c72b056a",
   "metadata": {},
   "outputs": [],
   "source": [
    "if __name__ == '__main__':\n",
    "    producer()"
   ]
  },
  {
   "cell_type": "code",
   "execution_count": null,
   "id": "4c837cb9",
   "metadata": {},
   "outputs": [],
   "source": [
    "# with open('MOCK_DATA.csv', mode = 'r') as csvfile:\n",
    "#     csvf = csv.DictReader(csvfile) \n",
    "#     list = []\n",
    "#     for row in csvf:\n",
    "#         list.append(row)\n",
    "# csvfile.close()\n",
    "# jsonString = json.dumps(list)\n",
    "# empty_dict = {\n",
    "#     \"data\" : {\n",
    "#         \"cred\" : jsonString\n",
    "#     }\n",
    "# }\n",
    "# print(empty_dict)\n",
    "# for i in jsonString[][]:\n",
    "#     print(i)\n",
    "#     break\n",
    "\n",
    "# >>> hashmap = {}\n",
    "# >>> var1=\"hi\"\n",
    "# >>> \n",
    "# >>> hashmap[var1] = var2\n",
    "# >>> hashmap\n",
    "# {'yes': 'no', 'hi': 'bye'}"
   ]
  }
 ],
 "metadata": {
  "kernelspec": {
   "display_name": "Python 3 (ipykernel)",
   "language": "python",
   "name": "python3"
  },
  "language_info": {
   "codemirror_mode": {
    "name": "ipython",
    "version": 3
   },
   "file_extension": ".py",
   "mimetype": "text/x-python",
   "name": "python",
   "nbconvert_exporter": "python",
   "pygments_lexer": "ipython3",
   "version": "3.10.7"
  },
  "vscode": {
   "interpreter": {
    "hash": "d3e10ef16274dd72e574b8fa73b58450b957d8421a2901baded3cca26fcf5dda"
   }
  }
 },
 "nbformat": 4,
 "nbformat_minor": 5
}
