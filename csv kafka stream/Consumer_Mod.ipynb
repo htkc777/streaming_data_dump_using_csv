{
 "cells": [
  {
   "cell_type": "code",
   "execution_count": null,
   "id": "95effdee",
   "metadata": {},
   "outputs": [],
   "source": [
    "import json\n",
    "from kafka import KafkaConsumer\n",
    "from json import loads\n",
    "from datetime import datetime\n",
    "import psycopg2"
   ]
  },
  {
   "cell_type": "code",
   "execution_count": null,
   "id": "dbc144d6",
   "metadata": {},
   "outputs": [],
   "source": [
    "consumer = KafkaConsumer('jsonAmit',bootstrap_servers=[\"localhost:9092\"],api_version=(0, 10, 1))"
   ]
  },
  {
   "cell_type": "code",
   "execution_count": null,
   "id": "cae6bfa7",
   "metadata": {},
   "outputs": [],
   "source": [
    "# consumer = KafkaConsumer(\n",
    "#     'jsonAmit',\n",
    "#      bootstrap_servers=['localhost:9092'],\n",
    "#      auto_offset_reset='earliest',\n",
    "#      enable_auto_commit=True,\n",
    "# #    group_id='my-group',\n",
    "#      value_deserializer=lambda x: loads(x.decode('utf-8')))"
   ]
  },
  {
   "cell_type": "code",
   "execution_count": null,
   "id": "7adf7cfb",
   "metadata": {},
   "outputs": [],
   "source": [
    "conn = psycopg2.connect( database=\"csv_data\", user='postgres', password='root', host='127.0.0.1', port= '5432')\n",
    "cursor = conn.cursor()"
   ]
  },
  {
   "cell_type": "code",
   "execution_count": null,
   "id": "4dfba612",
   "metadata": {},
   "outputs": [],
   "source": [
    "# for message in consumer:\n",
    "#     message = message.value\n",
    "#     m = json.loads(message)\n",
    "#     for mock in m['data']['mock']:\n",
    "#         cursor.execute(\"INSERT INTO mock_table (ID,First_name, Last_name, Email,Gender,Date) VALUES (%s,%s,%s,%s,%s,%s)\", (mock['ID'],mock['First_name'],mock['Last_name'],mock['Email'],mock['Gender'],mock['Date']))\n",
    "#         conn.commit()\n",
    "# #     print('Data at {} added to POSTGRESQL'.format(collection))\n",
    "\n",
    "# conn.close()"
   ]
  },
  {
   "cell_type": "code",
   "execution_count": null,
   "id": "7aa18f88",
   "metadata": {},
   "outputs": [],
   "source": [
    "for message in consumer:\n",
    "    message = message.value\n",
    "    m = json.loads(message)\n",
    "    for don in m['data']['cred']:\n",
    "        cursor.execute(\"INSERT INTO mock_table (ID,First_name, Last_name, Email,Gender,Date) VALUES (%s,%s,%s,%s,%s,%s)\", (don['ID'],don['First_name'],don['Last_name'],don['Email'],don['Gender'],don['Date']))\n",
    "        conn.commit()\n",
    "conn.close()"
   ]
  },
  {
   "cell_type": "code",
   "execution_count": null,
   "id": "82c90adb",
   "metadata": {},
   "outputs": [],
   "source": [
    "# for message in consumer:\n",
    "#     print(message.value)"
   ]
  },
  {
   "cell_type": "code",
   "execution_count": null,
   "id": "b5a0087d",
   "metadata": {},
   "outputs": [],
   "source": []
  }
 ],
 "metadata": {
  "kernelspec": {
   "display_name": "Python 3 (ipykernel)",
   "language": "python",
   "name": "python3"
  },
  "language_info": {
   "codemirror_mode": {
    "name": "ipython",
    "version": 3
   },
   "file_extension": ".py",
   "mimetype": "text/x-python",
   "name": "python",
   "nbconvert_exporter": "python",
   "pygments_lexer": "ipython3",
   "version": "3.10.7"
  },
  "vscode": {
   "interpreter": {
    "hash": "d3e10ef16274dd72e574b8fa73b58450b957d8421a2901baded3cca26fcf5dda"
   }
  }
 },
 "nbformat": 4,
 "nbformat_minor": 5
}
